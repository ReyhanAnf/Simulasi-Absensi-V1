{
  "nbformat": 4,
  "nbformat_minor": 0,
  "metadata": {
    "colab": {
      "name": "Selamat Datang di Colaboratory",
      "provenance": [],
      "collapsed_sections": [],
      "include_colab_link": true
    },
    "kernelspec": {
      "display_name": "Python 3",
      "name": "python3"
    }
  },
  "cells": [
    {
      "cell_type": "markdown",
      "metadata": {
        "id": "view-in-github",
        "colab_type": "text"
      },
      "source": [
        "<a href=\"https://colab.research.google.com/github/ReyhanAnf/icon/blob/main/absen.ipynb\" target=\"_parent\"><img src=\"https://colab.research.google.com/assets/colab-badge.svg\" alt=\"Open In Colab\"/></a>"
      ]
    },
    {
      "cell_type": "code",
      "metadata": {
        "id": "BwR86LefFkLE",
        "outputId": "ca247d9c-3f71-49a9-e7e2-2dca86c68194",
        "colab": {
          "base_uri": "https://localhost:8080/",
          "height": 1000
        }
      },
      "source": [
        "import pandas as pd\n",
        "import numpy as np\n",
        "from os import system\n",
        "\n",
        "\n",
        "note = '_PERINTAH_\\n !!Hati2 pas masukin data!!. \\n\\t-absen : a\\n\\t-lihat data : v\\n\\t-reset : r\\n\\t-bersihkan : c\\n\\t-undo : z\\n\\n'\n",
        "print(note)\n",
        "\n",
        "    \n",
        "    \n",
        "def put():\n",
        "    lp = str(input('>> '))\n",
        "    return lp\n",
        "\n",
        "def dt(a):\n",
        "    def dato():\n",
        "        global data\n",
        "        dat = pd.read_csv('absen.csv')\n",
        "        dt = [str(x) for x in dat['Tanggal']]\n",
        "        dP = [str(w) for w in dat['Pelaksanaan']]\n",
        "        dw = [str(y) for y in dat['waktu']]\n",
        "        dp = [str(x) for x in dat['praktek']]\n",
        "        \n",
        "        data = {'Tanggal': dt,\n",
        "                'Pelaksanaan': dP,\n",
        "                'waktu': dw,\n",
        "                'praktek': dp}\n",
        "        return data\n",
        "        \n",
        "    if a == 'a':\n",
        "        data = dato()\n",
        "        print('=======')\n",
        "        data['Tanggal'].append(str(input('Tanggal: ')))\n",
        "        data['Pelaksanaan'].append(str(input('Pelaksanaan(y/n): ')))\n",
        "        data['waktu'].append(int(input('Waktu(menit): ')))\n",
        "        data['praktek'].append(int(input('Praktek(menit): ')))\n",
        "        print('=======\\n')\n",
        "        data = pd.DataFrame(data)\n",
        "        data.to_csv('absen.csv', index=False)\n",
        "        data.to_csv('absenb.csv', index=False)  \n",
        "    elif a == 'r':\n",
        "        data = {'Tanggal': ['-'],\n",
        "                'Pelaksanaan': ['-'],\n",
        "                'waktu': ['-'],\n",
        "                'praktek': ['-']}\n",
        "        data = pd.DataFrame(data)\n",
        "        data.to_csv('absen.csv', index=False)\n",
        "    elif a == 'v':\n",
        "        data = pd.DataFrame(dato())\n",
        "        print(data)\n",
        "        bagus = data.loc[data['Pelaksanaan'] == 'y'].count()[1]\n",
        "        jelek = data.loc[data['Pelaksanaan'] == 'n'].count()[1]\n",
        "        if bagus > jelek:\n",
        "            print(':) Bagus.. Pertahankan, aku doakan kamu bisa jadi profesional..\\n')\n",
        "        elif bagus < jelek:\n",
        "            print(':( kok jarang belajar sih..? Ayo luangkan sedikit waktumu, supaya kamu ingat..\\n')\n",
        "        elif bagus == jelek:\n",
        "            print(':| lumayan, daripada ngga.. kamu masih bisa lebih bagus dari ini\\n')\n",
        "        \n",
        "    elif a == 'z':\n",
        "        data = pd.DataFrame(dato())\n",
        "        n = int(len(data['Tanggal']) - 1)\n",
        "        data = data.drop(n)\n",
        "        data.to_csv('absen.csv', index=False)\n",
        "    elif a == 'graf':\n",
        "        data = dato()\n",
        "        return data\n",
        "\n",
        "def vdt(v):\n",
        "    dt(v)\n",
        "\n",
        "lp = put()\n",
        "lop = 1\n",
        "\n",
        "while lop >= 1:\n",
        "    if lp == 'a':\n",
        "        dt(lp)\n",
        "        lp = put()\n",
        "    elif lp == 'v':\n",
        "        vdt(lp)\n",
        "        lp = put()\n",
        "    elif lp == 'r':\n",
        "        dt(lp)\n",
        "        lp = put()\n",
        "    elif lp == 'c':\n",
        "        system('clear')\n",
        "        print(note)\n",
        "        lp = put()\n",
        "    elif lp == 'z':\n",
        "        dt(lp)\n",
        "        lp = put()\n",
        "    elif lp == 'graf':\n",
        "        vv = int(input('0/1/2? > '))\n",
        "        vq = ['waktu','praktek']\n",
        "        if vv == 0:\n",
        "            vis(dt(lp), param=[vq[vv]])\n",
        "        elif vv == 1:\n",
        "            vis(dt(lp), param=[vq[vv]])\n",
        "        elif vv == 2:\n",
        "            vis(dt(lp), param=[vq[0], vq[1]])\n",
        "        lp = put()\n",
        "    else:\n",
        "        print('Kamu salah input.. ,')\n",
        "        lop -= 1\n",
        "        lp = put()"
      ],
      "execution_count": 12,
      "outputs": [
        {
          "output_type": "error",
          "ename": "ModuleNotFoundError",
          "evalue": "ignored",
          "traceback": [
            "\u001b[0;31m---------------------------------------------------------------------------\u001b[0m",
            "\u001b[0;31mModuleNotFoundError\u001b[0m                       Traceback (most recent call last)",
            "\u001b[0;32m<ipython-input-12-104354b1b234>\u001b[0m in \u001b[0;36m<module>\u001b[0;34m()\u001b[0m\n\u001b[1;32m      2\u001b[0m \u001b[0;32mimport\u001b[0m \u001b[0mnumpy\u001b[0m \u001b[0;32mas\u001b[0m \u001b[0mnp\u001b[0m\u001b[0;34m\u001b[0m\u001b[0;34m\u001b[0m\u001b[0m\n\u001b[1;32m      3\u001b[0m \u001b[0;32mfrom\u001b[0m \u001b[0mos\u001b[0m \u001b[0;32mimport\u001b[0m \u001b[0msystem\u001b[0m\u001b[0;34m\u001b[0m\u001b[0;34m\u001b[0m\u001b[0m\n\u001b[0;32m----> 4\u001b[0;31m \u001b[0;32mfrom\u001b[0m \u001b[0mvak\u001b[0m \u001b[0;32mimport\u001b[0m \u001b[0mvis\u001b[0m\u001b[0;34m\u001b[0m\u001b[0;34m\u001b[0m\u001b[0m\n\u001b[0m\u001b[1;32m      5\u001b[0m \u001b[0;34m\u001b[0m\u001b[0m\n\u001b[1;32m      6\u001b[0m \u001b[0mnote\u001b[0m \u001b[0;34m=\u001b[0m \u001b[0;34m'_PERINTAH_\\n !!Hati2 pas masukin data!!. \\n\\t-absen : a\\n\\t-lihat data : v\\n\\t-reset : r\\n\\t-bersihkan : c\\n\\t-undo : z\\n\\n'\u001b[0m\u001b[0;34m\u001b[0m\u001b[0;34m\u001b[0m\u001b[0m\n",
            "\u001b[0;31mModuleNotFoundError\u001b[0m: No module named 'vak'",
            "",
            "\u001b[0;31m---------------------------------------------------------------------------\u001b[0;32m\nNOTE: If your import is failing due to a missing package, you can\nmanually install dependencies using either !pip or !apt.\n\nTo view examples of installing some common dependencies, click the\n\"Open Examples\" button below.\n\u001b[0;31m---------------------------------------------------------------------------\u001b[0m\n"
          ],
          "errorDetails": {
            "actions": [
              {
                "action": "open_url",
                "actionText": "Open Examples",
                "url": "/notebooks/snippets/importing_libraries.ipynb"
              }
            ]
          }
        }
      ]
    }
  ]
}